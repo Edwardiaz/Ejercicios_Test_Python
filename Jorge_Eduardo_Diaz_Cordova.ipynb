{
  "nbformat": 4,
  "nbformat_minor": 0,
  "metadata": {
    "colab": {
      "name": "Jorge Eduardo Diaz Cordova.ipynb",
      "provenance": [],
      "collapsed_sections": [],
      "include_colab_link": true
    },
    "kernelspec": {
      "name": "python3",
      "display_name": "Python 3"
    }
  },
  "cells": [
    {
      "cell_type": "markdown",
      "metadata": {
        "id": "view-in-github",
        "colab_type": "text"
      },
      "source": [
        "<a href=\"https://colab.research.google.com/github/Edwardiaz/Ejercicios_Test_Python/blob/main/Jorge_Eduardo_Diaz_Cordova.ipynb\" target=\"_parent\"><img src=\"https://colab.research.google.com/assets/colab-badge.svg\" alt=\"Open In Colab\"/></a>"
      ]
    },
    {
      "cell_type": "markdown",
      "metadata": {
        "id": "CdOBiARowr9p"
      },
      "source": [
        "#**EJERCICIO 1: CALCULADORA**"
      ]
    },
    {
      "cell_type": "markdown",
      "metadata": {
        "id": "adTrVsKWxFTF"
      },
      "source": [
        "Indicaciones: Crear una clase \"calculadora\" que realice los procedimientos de suma, resta, multiplicación , división, potencia y módulo entre dos variables numéricas. Ponderación del ejercicio 50%."
      ]
    },
    {
      "cell_type": "code",
      "metadata": {
        "id": "iik2tmN9ytAo",
        "colab": {
          "base_uri": "https://localhost:8080/"
        },
        "outputId": "5b36a7c6-8000-4e24-f66d-c46b4af450de"
      },
      "source": [
        "#Realizar TODO el ejercicio en esta celda.\n",
        "\n",
        "class Calculadora:\n",
        "\n",
        "  def __init__(self):\n",
        "    self.result = 0\n",
        "  \n",
        "  def suma(self, val1, val2):\n",
        "    self.result = val1 + val2\n",
        "  \n",
        "  def resta(self, val1, val2):\n",
        "    self.result = val1 - val2\n",
        "  \n",
        "  def multiplicacion(self, val1, val2):\n",
        "    self.result = val1*val2\n",
        "  \n",
        "  def division(self, val1, val2):\n",
        "    self.result = val1/val2\n",
        "  \n",
        "  def potencia(self, val1, val2):\n",
        "    self.result = val1**val2\n",
        "  \n",
        "  def modulo(self, val1, val2):\n",
        "    self.result = val1%val2\n",
        "#inicializacion del objeto operacion para limpiar el valor de result y comenzar una nueva operacion\n",
        "operacion = Calculadora()\n",
        "operacion.suma(2,3)\n",
        "print(\"Sumatoria: \"+str(operacion.result))\n",
        "operacion = Calculadora()\n",
        "operacion.resta(10,15)\n",
        "print(\"Resta: \"+str(operacion.result))\n",
        "operacion = Calculadora()\n",
        "operacion.multiplicacion(2,3)\n",
        "print(\"Multiplicación: \"+str(operacion.result))\n",
        "operacion = Calculadora()\n",
        "operacion.division(28,3)\n",
        "print(\"División: \"+str(operacion.result))\n",
        "operacion = Calculadora()\n",
        "operacion.potencia(2,3)\n",
        "print(\"Potencia: \"+str(operacion.result))\n",
        "operacion = Calculadora()\n",
        "operacion.modulo(10,3)\n",
        "print(\"División modular: \"+str(operacion.result))"
      ],
      "execution_count": null,
      "outputs": [
        {
          "output_type": "stream",
          "text": [
            "Sumatoria: 5\n",
            "Resta: -5\n",
            "Multiplicación: 6\n",
            "División: 9.333333333333334\n",
            "Potencia: 8\n",
            "División modular: 1\n"
          ],
          "name": "stdout"
        }
      ]
    },
    {
      "cell_type": "markdown",
      "metadata": {
        "id": "33uo3AEgy4Th"
      },
      "source": [
        "#**EJERCICIO 2: CONVERSIÓN DE CELSIUS A FAHRENHEIT**"
      ]
    },
    {
      "cell_type": "markdown",
      "metadata": {
        "id": "Nai_4yEGz8N9"
      },
      "source": [
        "Indicaciones: Realizar una función que convierta de grados Celsius a grados Fahrenheit. Realizar una iteración sobre la lista \"celsius\" que se proporciona y almacenar cada uno de los resultados en la lista \"fahrenheit\". La celda debe imprimir la lista *fahrenheit* con los resultados de la conversión. Ponderación del ejercicio 50%."
      ]
    },
    {
      "cell_type": "code",
      "metadata": {
        "id": "EWLqVLai1GNo",
        "colab": {
          "base_uri": "https://localhost:8080/"
        },
        "outputId": "ceef88de-84ae-4cde-9901-e8a36feb5535"
      },
      "source": [
        "#Realizar el ejercicio completo en esta celda. Trabajar sobre las listas proporcionadas\n",
        "celsius = ['32.5', '40.7', '23.0', '44.0', '15.9', '33.8', '45.6', '67.0', '70.4']\n",
        "fahrenheit = []\n",
        "\n",
        "def convert_celsius_fahrenheit(celsius):\n",
        "  return (celsius*1.8) + 32\n",
        "\n",
        "for i in celsius:\n",
        "  fahrenheit.append(convert_celsius_fahrenheit(float(i)))\n",
        "\n",
        "print(\"Las temperaturas en Fahrenheit son:\")\n",
        "fahrenheit"
      ],
      "execution_count": null,
      "outputs": [
        {
          "output_type": "stream",
          "text": [
            "Las temperaturas en Fahrenheit son:\n"
          ],
          "name": "stdout"
        },
        {
          "output_type": "execute_result",
          "data": {
            "text/plain": [
              "[90.5,\n",
              " 105.26,\n",
              " 73.4,\n",
              " 111.2,\n",
              " 60.620000000000005,\n",
              " 92.84,\n",
              " 114.08,\n",
              " 152.60000000000002,\n",
              " 158.72000000000003]"
            ]
          },
          "metadata": {
            "tags": []
          },
          "execution_count": 46
        }
      ]
    }
  ]
}